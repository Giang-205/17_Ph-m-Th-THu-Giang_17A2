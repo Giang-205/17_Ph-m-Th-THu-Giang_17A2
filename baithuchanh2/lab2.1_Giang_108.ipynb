{
 "cells": [
  {
   "cell_type": "markdown",
   "metadata": {},
   "source": [
    "Câu 1"
   ]
  },
  {
   "cell_type": "code",
   "execution_count": 1,
   "metadata": {},
   "outputs": [
    {
     "name": "stdout",
     "output_type": "stream",
     "text": [
      "Nhiệt độ trong tháng:\n",
      " [23.73 23.68 21.13 18.69 13.99 18.07 11.05 26.87 11.67 15.91 29.96 27.58\n",
      " 11.55 26.03 16.55 22.91 11.81 13.74 14.65 13.47 18.25 17.89 27.77 10.01\n",
      " 24.14 25.73 29.56 14.62 17.76 13.36]\n",
      "Trung bình nhiệt độ trong tháng là: 19.071\n"
     ]
    }
   ],
   "source": [
    "import numpy as np\n",
    "nhiet_do = np.round(np.random.uniform(10.0, 30.0, size = 30),2)\n",
    "print(\"Nhiệt độ trong tháng:\\n\",nhiet_do)\n",
    "print(\"Trung bình nhiệt độ trong tháng là:\", np.mean(nhiet_do))\n"
   ]
  },
  {
   "cell_type": "markdown",
   "metadata": {},
   "source": [
    "câu 2"
   ]
  },
  {
   "cell_type": "code",
   "execution_count": 2,
   "metadata": {},
   "outputs": [
    {
     "name": "stdout",
     "output_type": "stream",
     "text": [
      "Nhiệt độ ngày cao nhất trong tháng là: 29.96\n",
      "Nhiệt độ ngày thấp nhất trong tháng là: 10.01\n",
      "Ngày có nhiệt độ cao nhất trong tháng là: 11\n",
      "Ngày có nhiệt độ thấp nhất trong tháng là: 24\n"
     ]
    }
   ],
   "source": [
    "# tìm nhiệt dộ max and min\n",
    "max_temp = np.max(nhiet_do)\n",
    "min_temp = np.min(nhiet_do)\n",
    "# xác định ngày có nhiệt độ cao nhất và thấp nhất\n",
    "# chú ý: ngày được tính từ 1, không phai 0\n",
    "day_max_temp = np.argmax(nhiet_do) + 1\n",
    "day_min_temp = np.argmin(nhiet_do) + 1\n",
    "print(f\"Nhiệt độ ngày cao nhất trong tháng là:\", max_temp)\n",
    "print(f\"Nhiệt độ ngày thấp nhất trong tháng là:\", min_temp)\n",
    "print(f\"Ngày có nhiệt độ cao nhất trong tháng là:\", day_max_temp)\n",
    "print(f\"Ngày có nhiệt độ thấp nhất trong tháng là:\", day_min_temp)\n"
   ]
  },
  {
   "cell_type": "code",
   "execution_count": 3,
   "metadata": {},
   "outputs": [
    {
     "name": "stdout",
     "output_type": "stream",
     "text": [
      "Nhiệt độ chênh lệch giữa các ngày: 22\n",
      "Nhiệt độ chênh lệch co sự biến đổi nhiệt cao nhất là: 9.879999999999999\n"
     ]
    }
   ],
   "source": [
    "# tạo mảng chứa nhiệt độ  của ngày hôm truớc ( trừ ngày cuối cùng) của mảng nhiet_do\n",
    "ngay_truoc = nhiet_do[:-1]\n",
    "# tao mảng chứa nhiệt độ của  ngày hôm sau ( trừ ngà đàu tiên ) của mảng nhiệt độ\n",
    "ngay_sau = nhiet_do[1:]\n",
    "# tính toán sự chênh lệch nhiệt độ giữa ngày hôm sau và ngày hôm trước\n",
    "chenh_lech = ngay_sau - ngay_truoc\n",
    "# xác định ngày có sự chênh lệch nhiệt độ lonws nhất\n",
    "dff_max = np.argmax(np.abs(chenh_lech))\n",
    "max_chenh_lech = chenh_lech[dff_max - 1]\n",
    "print(f\"Nhiệt độ chênh lệch giữa các ngày:\",dff_max)\n",
    "print(f\"Nhiệt độ chênh lệch co sự biến đổi nhiệt cao nhất là:\",max_chenh_lech)"
   ]
  },
  {
   "cell_type": "markdown",
   "metadata": {},
   "source": [
    "Câu 3"
   ]
  },
  {
   "cell_type": "code",
   "execution_count": 4,
   "metadata": {},
   "outputs": [
    {
     "name": "stdout",
     "output_type": "stream",
     "text": [
      "Các ngày có nhiệt độ trên 20 độ: \n",
      "Ngày 1: 23.73 C\n",
      "Ngày 2: 23.68 C\n",
      "Ngày 3: 21.13 C\n",
      "Ngày 8: 26.87 C\n",
      "Ngày 11: 29.96 C\n",
      "Ngày 12: 27.58 C\n",
      "Ngày 14: 26.03 C\n",
      "Ngày 16: 22.91 C\n",
      "Ngày 23: 27.77 C\n",
      "Ngày 25: 24.14 C\n",
      "Ngày 26: 25.73 C\n",
      "Ngày 27: 29.56 C\n"
     ]
    }
   ],
   "source": [
    "ngay_tren_20 = np.where(nhiet_do > 20)[0] + 1\n",
    "nhiet_do_20 = nhiet_do[nhiet_do > 20]\n",
    "print('Các ngày có nhiệt độ trên 20 độ: ')\n",
    "for ngay, nhiet in zip(ngay_tren_20, nhiet_do_20):\n",
    "     print(f'Ngày {ngay}: {nhiet} C')"
   ]
  },
  {
   "cell_type": "code",
   "execution_count": 5,
   "metadata": {},
   "outputs": [
    {
     "data": {
      "text/plain": [
       "13.99"
      ]
     },
     "execution_count": 5,
     "metadata": {},
     "output_type": "execute_result"
    }
   ],
   "source": [
    "nhiet_do_ngay_5 = nhiet_do[4]\n",
    "nhiet_do_ngay_5"
   ]
  },
  {
   "cell_type": "code",
   "execution_count": 6,
   "metadata": {},
   "outputs": [
    {
     "data": {
      "text/plain": [
       "15.91"
      ]
     },
     "execution_count": 6,
     "metadata": {},
     "output_type": "execute_result"
    }
   ],
   "source": [
    "nhiet_do_ngay_10 = nhiet_do[9]\n",
    "nhiet_do_ngay_10"
   ]
  },
  {
   "cell_type": "code",
   "execution_count": 7,
   "metadata": {},
   "outputs": [
    {
     "data": {
      "text/plain": [
       "16.55"
      ]
     },
     "execution_count": 7,
     "metadata": {},
     "output_type": "execute_result"
    }
   ],
   "source": [
    "nhiet_do_ngay_15 = nhiet_do[14]\n",
    "nhiet_do_ngay_15"
   ]
  },
  {
   "cell_type": "code",
   "execution_count": 8,
   "metadata": {},
   "outputs": [
    {
     "data": {
      "text/plain": [
       "13.47"
      ]
     },
     "execution_count": 8,
     "metadata": {},
     "output_type": "execute_result"
    }
   ],
   "source": [
    "nhiet_do_ngay_20 = nhiet_do[19]\n",
    "nhiet_do_ngay_20"
   ]
  },
  {
   "cell_type": "code",
   "execution_count": 9,
   "metadata": {},
   "outputs": [
    {
     "data": {
      "text/plain": [
       "24.14"
      ]
     },
     "execution_count": 9,
     "metadata": {},
     "output_type": "execute_result"
    }
   ],
   "source": [
    "nhiet_do_ngay_25 = nhiet_do[24]\n",
    "nhiet_do_ngay_25"
   ]
  },
  {
   "cell_type": "code",
   "execution_count": 10,
   "metadata": {},
   "outputs": [
    {
     "name": "stdout",
     "output_type": "stream",
     "text": [
      "Nhiệt độ ngày lẻ:\n",
      "Ngày 1: 23.73 C\n",
      "Ngày 3: 21.13 C\n",
      "Ngày 5: 13.99 C\n",
      "Ngày 7: 11.05 C\n",
      "Ngày 9: 11.67 C\n",
      "Ngày 11: 29.96 C\n",
      "Ngày 13: 11.55 C\n",
      "Ngày 15: 16.55 C\n",
      "Ngày 17: 11.81 C\n",
      "Ngày 19: 14.65 C\n",
      "Ngày 21: 18.25 C\n",
      "Ngày 23: 27.77 C\n",
      "Ngày 25: 24.14 C\n",
      "Ngày 27: 29.56 C\n",
      "Ngày 29: 17.76 C\n",
      "Nhiệt độ các ngày chẵn\n",
      "Ngày 2: 23.68 C\n",
      "Ngày 4: 18.69 C\n",
      "Ngày 6: 18.07 C\n",
      "Ngày 8: 26.87 C\n",
      "Ngày 10: 15.91 C\n",
      "Ngày 12: 27.58 C\n",
      "Ngày 14: 26.03 C\n",
      "Ngày 16: 22.91 C\n",
      "Ngày 18: 13.74 C\n",
      "Ngày 20: 13.47 C\n",
      "Ngày 22: 17.89 C\n",
      "Ngày 24: 10.01 C\n",
      "Ngày 26: 25.73 C\n",
      "Ngày 28: 14.62 C\n",
      "Ngày 30: 13.36 C\n"
     ]
    }
   ],
   "source": [
    "#Nhiệt độ ngày chẵn ngày lẻ\n",
    "ngay_le = nhiet_do[::2]\n",
    "ngay_chan = nhiet_do[1::2]\n",
    "print('Nhiệt độ ngày lẻ:')\n",
    "for ngay, nhiet in zip(range(1, 31, 2), ngay_le):\n",
    "     print(f'Ngày {ngay}: {nhiet} C')\n",
    "\n",
    "print('Nhiệt độ các ngày chẵn')\n",
    "for ngay, nhiet in zip(range(2, 31, 2), ngay_chan):\n",
    "     print(f'Ngày {ngay}: {nhiet} C')"
   ]
  }
 ],
 "metadata": {
  "kernelspec": {
   "display_name": "base",
   "language": "python",
   "name": "python3"
  },
  "language_info": {
   "codemirror_mode": {
    "name": "ipython",
    "version": 3
   },
   "file_extension": ".py",
   "mimetype": "text/x-python",
   "name": "python",
   "nbconvert_exporter": "python",
   "pygments_lexer": "ipython3",
   "version": "3.12.4"
  }
 },
 "nbformat": 4,
 "nbformat_minor": 2
}
